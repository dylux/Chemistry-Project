{
 "cells": [
  {
   "cell_type": "markdown",
   "metadata": {},
   "source": [
    "# Simulation of Maxwell–Boltzmann distribution - Johnny Tse\n",
    "\n",
    "This is a live document on the information regarding the Maxwell–Boltzmann distribution, as well as details to my implementation of a simulation which shows the Maxwell–Boltzmann distribution.\n",
    "\n",
    "This simulation aims to simulate a system of ideal gas, and to plot out the particle's speed and energy distribution over time.\n",
    "\n",
    "## Background\n",
    "\n",
    "The Maxwell–Boltzmann distribution is a curve used to describe the distribution of particle's speed in ideal gas. It was first derived by Maxwell, and later rigorously studied by Boltzmann. According to the second law of thermodynamics, the entropy of an isolated system would never decrease. Initially, this is viewed as a fundemental postulate. Later on however, this observation is explained away using statistical mechanics, a mathematical approach to physics using statistics and probability. The Maxwell–Boltzmann distribution is one of the earliest discovery with statistical mechanics, which has been mathematically shown to maximize the entropy of an isolated system of ideal gas. Since entropy of a system cannot decrease, as such systems evolves over time, they would reach a particle distribution resembling the Maxwell–Boltzmann distribution.\n",
    "\n",
    "## Note\n",
    "\n",
    "Before you move on, it is CRUCIAL to understand that there are several \"Maxwell–Boltzmann distribution\" which are very similar in behaviour, but are fundementally very different things. There are Maxwell–Boltzmann distribution for different dimensions, namely 2D and 3D, and the x-axis of the graph could be the speed or the energy of the particles. to see why this matters, here are two graphs graphing the Maxwell–Boltzmann distribution in terms of the particles' speed and energy in 1D, 2D and 3D, extracted from \"Sándor Nagy: Tricky Dimensions – a Spin-off of a Sim\":\n",
    "\n",
    "Speed            |Energy\n",
    ":---------------:|:-----------------:\n",
    "![alt text](Reference/Speed.png \"Title\")|![alt text](Reference/Energy.png \"Title\")\n",
    "\n",
    "As you can see, the familiar Maxwell–Boltzmann distribution is actually a specific graph for the speed of molecules in 3D. It is quite unfortunate that many tend to get this wrong (even the syllabus uses the graph for speed when talking about activation energy even though it is more appropriate to use the graph for energy). An interesting note about the speed graph above is that in a 2D world, the initial gradient of 2D's curve is non-zero, whereasthe initial gradient of 3D's curve is zero. The syllabus might allow both, but it is technically wrong to draw it the 2D's way.\n",
    "\n",
    "In the following simulation, the environment would be in 2D in order to simplify the calculation. This has the side effect of not accurately portraying the distribution in real life, since we live in a 3D world.\n",
    "\n",
    "## Please run every block of code below"
   ]
  },
  {
   "cell_type": "code",
   "execution_count": null,
   "metadata": {},
   "outputs": [],
   "source": [
    "# The code's dependencies are declared here\n",
    "%matplotlib notebook\n",
    "import numpy as np\n",
    "import matplotlib.pyplot as plt\n",
    "\n",
    "from numba import jit"
   ]
  },
  {
   "cell_type": "markdown",
   "metadata": {},
   "source": [
    "## Assumptions\n",
    "\n",
    "In order for Maxwell–Boltzmann distribution to be observed, several assumptions have to be made:\n",
    "\n",
    "- The particles should behave as idealized gases.\n",
    "    - the particles have point masses\n",
    "- The particles do not interact with each other\n",
    "    - unless they collided for negligible time, which they collide elastically\n",
    "- There are large amount of particles in the system\n",
    "\n",
    "\n",
    "In this simulation, additional assumptions are made to the simulation in order to speed up and simplify calculation (these assumptions could override the assumptions made in the previous part, causing small deviations from the actual Boltzmann distribution):\n",
    "\n",
    "- All units used are arbitary units\n",
    "- The environment which the particles reside in is assumed to be a 1x1 square, where there is no wall. A particle touching the edge of the square would simply show up on the other side of the square.\n",
    "- The particles modelled as very small discs of identical radius\n",
    "- Each particle has mass 1\n"
   ]
  },
  {
   "cell_type": "markdown",
   "metadata": {},
   "source": [
    "## Variable adjustments\n",
    "\n",
    "To play around with the simulation, adjust the values below, which determines the radius of the particles, the number of particles, the velocity of the particle, and the time interval between each \"frame\" of the simulation. Generally, only the number of particles has to be varied."
   ]
  },
  {
   "cell_type": "code",
   "execution_count": null,
   "metadata": {},
   "outputs": [],
   "source": [
    "#Variables to be adjusted\n",
    "radius = 0.005\n",
    "num = 200\n",
    "velocity = 2\n",
    "time_interval = 0.002\n",
    "\n",
    "#Initializing the particles in the system\n",
    "ball_list = np.empty([num, 2, 2])\n",
    "for i in range(num):\n",
    "    pos_init = np.random.rand(2)\n",
    "    angle = np.random.random_sample()\n",
    "    v_init = np.array([velocity*np.cos(angle*np.pi*2), velocity*np.sin(angle*np.pi*2)])\n",
    "    ball_list[i] = [pos_init, v_init]\n",
    "    \n",
    "#Defining the function which updates the position of the particles after a certain time interval\n",
    "@jit(nopython=True)\n",
    "def movement_and_collision(time, ball_list):\n",
    "    #each particle moves forward according to their velocity\n",
    "    ball_list[:,0] = np.mod(ball_list[:,0] + time*ball_list[:,1], 1) \n",
    "    \n",
    "    #the distance between each pair of particles are measured, and their velocities are adjusted as though they collided if their distance is close enough\n",
    "    for x in range(len(ball_list)-1):\n",
    "        for y in range(x+1, len(ball_list)):\n",
    "            if np.linalg.norm(ball_list[x,0] - ball_list[y,0]) < 2*radius:\n",
    "                # Relative velocity of between the two particles\n",
    "                relative_velocity = ball_list[x,1] - ball_list[y,1]\n",
    "                \n",
    "                # The direction between the centers of the particles\n",
    "                direction = (ball_list[x,0] - ball_list[y,0]) / np.linalg.norm(ball_list[x,0] - ball_list[y,0])\n",
    "                \n",
    "                #The change of velocity due force exerted during collision\n",
    "                useful_speed = np.dot(relative_velocity, direction)\n",
    "\n",
    "                ball_list[x,1] -= direction*useful_speed\n",
    "                ball_list[y,1] += direction*useful_speed\n",
    "\n",
    "    return ball_list"
   ]
  },
  {
   "cell_type": "markdown",
   "metadata": {},
   "source": [
    "The following code creates three plots of the particle's position, speed and energy, which updates in real time.\n",
    "Press the triangle to run the code and the square to stop it when the system stabilizes, exhibiting the Maxwell-Boltzmann distribution.\n",
    "\n",
    "Please be aware that the axes are in arbitary unit, and thus carries no significant meaning other than the ratio."
   ]
  },
  {
   "cell_type": "code",
   "execution_count": null,
   "metadata": {},
   "outputs": [],
   "source": [
    "#Initializing the plot\n",
    "fig = plt.figure()\n",
    "ax1 = fig.add_subplot(131)\n",
    "ax2 = fig.add_subplot(132)\n",
    "ax3 = fig.add_subplot(133)\n",
    "fig.show()\n",
    "\n",
    "#Infinite loop which simulates the system over time\n",
    "while True:\n",
    "    #Updates the position of the particles after a certain time interval\n",
    "    ball_list = movement_and_collision(time_interval, ball_list)\n",
    "    items = ball_list[:,0]\n",
    "    \n",
    "    #Plotting the position, speed and energy of the particles\n",
    "    ax1.clear()\n",
    "    ax1.set_xlim(0, 1)\n",
    "    ax1.set_ylim(0, 1)\n",
    "    ax1.plot(list(zip(*items))[0], list(zip(*items))[1], 'o', color='black', markersize=1)\n",
    "    ax1.set_title('Position of particles')\n",
    "    \n",
    "    velocity_list = np.linalg.norm(ball_list[:,1,:], axis=1)\n",
    "    energy_list = np.linalg.norm(ball_list[:,1,:], axis=1)**2 #Energy is proportional to the square of speed\n",
    "\n",
    "    ax2.clear()\n",
    "    ax2.hist(velocity_list, bins=40)\n",
    "    ax2.set_title('Speed of particles')\n",
    "    \n",
    "    ax3.clear()\n",
    "    ax3.hist(energy_list, bins=40)\n",
    "    ax3.set_title('Energy of particles')\n",
    "    \n",
    "    fig.canvas.draw()"
   ]
  },
  {
   "cell_type": "markdown",
   "metadata": {},
   "source": [
    " "
   ]
  }
 ],
 "metadata": {
  "kernelspec": {
   "display_name": "Python 3",
   "language": "python",
   "name": "python3"
  },
  "language_info": {
   "codemirror_mode": {
    "name": "ipython",
    "version": 3
   },
   "file_extension": ".py",
   "mimetype": "text/x-python",
   "name": "python",
   "nbconvert_exporter": "python",
   "pygments_lexer": "ipython3",
   "version": "3.7.3"
  }
 },
 "nbformat": 4,
 "nbformat_minor": 2
}
